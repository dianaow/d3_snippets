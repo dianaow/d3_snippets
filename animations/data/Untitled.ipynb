{
 "cells": [
  {
   "cell_type": "code",
   "execution_count": 1,
   "metadata": {},
   "outputs": [],
   "source": [
    "import pandas as pd"
   ]
  },
  {
   "cell_type": "code",
   "execution_count": 47,
   "metadata": {},
   "outputs": [],
   "source": [
    "scores = pd.read_csv('scores1.csv')"
   ]
  },
  {
   "cell_type": "code",
   "execution_count": 61,
   "metadata": {
    "scrolled": true
   },
   "outputs": [
    {
     "name": "stderr",
     "output_type": "stream",
     "text": [
      "/Users/dianaow/anaconda3/envs/py36/lib/python3.6/site-packages/pandas/core/frame.py:4015: SettingWithCopyWarning: \n",
      "A value is trying to be set on a copy of a slice from a DataFrame\n",
      "\n",
      "See the caveats in the documentation: http://pandas.pydata.org/pandas-docs/stable/indexing.html#indexing-view-versus-copy\n",
      "  return super(DataFrame, self).rename(**kwargs)\n"
     ]
    }
   ],
   "source": [
    "scores = scores.sort_values('score', ascending=False)\n",
    "scores1 = scores.drop_duplicates('id', keep='first')\n",
    "scores1.rename(columns={'score': 'score1', 'crime': 'crime1', 'binned':'binned1'}, inplace=True)\n",
    "scores = scores.sort_values('score', ascending=True)\n",
    "scores2 = scores.drop_duplicates('id', keep='first')\n",
    "scores2.rename(columns={'score': 'score2', 'crime': 'crime2', 'binned':'binned2'}, inplace=True)"
   ]
  },
  {
   "cell_type": "code",
   "execution_count": 63,
   "metadata": {
    "scrolled": true
   },
   "outputs": [],
   "source": [
    "scores_new = pd.merge(scores1, scores2, on=['subgraph', 'country', 'id'], how='left')"
   ]
  },
  {
   "cell_type": "code",
   "execution_count": 67,
   "metadata": {
    "scrolled": true
   },
   "outputs": [
    {
     "data": {
      "text/plain": [
       "array(['0.9-1', '0.7-0.8', '0.4-0.6'], dtype=object)"
      ]
     },
     "execution_count": 67,
     "metadata": {},
     "output_type": "execute_result"
    }
   ],
   "source": [
    "scores_new.binned1.unique()"
   ]
  },
  {
   "cell_type": "code",
   "execution_count": 73,
   "metadata": {
    "scrolled": true
   },
   "outputs": [],
   "source": [
    "scores_new.replace('Sectoral Sanctions', 'Sanctions', inplace=True)\n",
    "scores_new.replace('Narrative Sanctions', 'Sanctions', inplace=True)\n",
    "scores_new.replace('Formerly Sanctioned', 'Sanctions', inplace=True)"
   ]
  },
  {
   "cell_type": "code",
   "execution_count": 74,
   "metadata": {},
   "outputs": [],
   "source": [
    "scores_new.to_csv('scores_new.csv', index=False)"
   ]
  },
  {
   "cell_type": "code",
   "execution_count": 81,
   "metadata": {},
   "outputs": [],
   "source": [
    "scores2 = pd.read_csv('scores1.csv')\n",
    "scores2.replace('Sectoral Sanctions', 'Sanctions', inplace=True)\n",
    "scores2.replace('Narrative Sanctions', 'Sanctions', inplace=True)\n",
    "scores2.replace('Formerly Sanctioned', 'Sanctions', inplace=True)\n",
    "scores2.replace('Formerly Sanctioned - Iran', 'Sanctions', inplace=True)\n",
    "scores2.to_csv('scores2.csv', index=False)"
   ]
  },
  {
   "cell_type": "code",
   "execution_count": null,
   "metadata": {},
   "outputs": [],
   "source": []
  }
 ],
 "metadata": {
  "kernelspec": {
   "display_name": "Python 3",
   "language": "python",
   "name": "python3"
  },
  "language_info": {
   "codemirror_mode": {
    "name": "ipython",
    "version": 3
   },
   "file_extension": ".py",
   "mimetype": "text/x-python",
   "name": "python",
   "nbconvert_exporter": "python",
   "pygments_lexer": "ipython3",
   "version": "3.6.8"
  }
 },
 "nbformat": 4,
 "nbformat_minor": 2
}
